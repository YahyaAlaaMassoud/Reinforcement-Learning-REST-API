{
  "nbformat": 4,
  "nbformat_minor": 0,
  "metadata": {
    "colab": {
      "name": "cart pole v1 tensorflow.ipynb",
      "version": "0.3.2",
      "views": {},
      "default_view": {},
      "provenance": [],
      "collapsed_sections": []
    },
    "kernelspec": {
      "name": "python3",
      "display_name": "Python 3"
    },
    "accelerator": "GPU"
  },
  "cells": [
    {
      "metadata": {
        "id": "pg7a1n9JOtZ8",
        "colab_type": "code",
        "colab": {
          "autoexec": {
            "startup": false,
            "wait_interval": 0
          },
          "base_uri": "https://localhost:8080/",
          "height": 187
        },
        "outputId": "4047e2ac-a8ed-4e11-b4d1-4d7f0c553bbd",
        "executionInfo": {
          "status": "ok",
          "timestamp": 1530921096631,
          "user_tz": -120,
          "elapsed": 2598,
          "user": {
            "displayName": "Yahya Alaa",
            "photoUrl": "https://lh3.googleusercontent.com/a/default-user=s128",
            "userId": "110797756262031615603"
          }
        }
      },
      "cell_type": "code",
      "source": [
        "!pip install gym"
      ],
      "execution_count": 5,
      "outputs": [
        {
          "output_type": "stream",
          "text": [
            "Requirement already satisfied: gym in /usr/local/lib/python3.6/dist-packages (0.10.5)\r\n",
            "Requirement already satisfied: pyglet>=1.2.0 in /usr/local/lib/python3.6/dist-packages (from gym) (1.3.2)\r\n",
            "Requirement already satisfied: numpy>=1.10.4 in /usr/local/lib/python3.6/dist-packages (from gym) (1.14.5)\r\n",
            "Requirement already satisfied: requests>=2.0 in /usr/local/lib/python3.6/dist-packages (from gym) (2.18.4)\n",
            "Requirement already satisfied: six in /usr/local/lib/python3.6/dist-packages (from gym) (1.11.0)\n",
            "Requirement already satisfied: future in /usr/local/lib/python3.6/dist-packages (from pyglet>=1.2.0->gym) (0.16.0)\n",
            "Requirement already satisfied: idna<2.7,>=2.5 in /usr/local/lib/python3.6/dist-packages (from requests>=2.0->gym) (2.6)\n",
            "Requirement already satisfied: chardet<3.1.0,>=3.0.2 in /usr/local/lib/python3.6/dist-packages (from requests>=2.0->gym) (3.0.4)\n",
            "Requirement already satisfied: urllib3<1.23,>=1.21.1 in /usr/local/lib/python3.6/dist-packages (from requests>=2.0->gym) (1.22)\n",
            "Requirement already satisfied: certifi>=2017.4.17 in /usr/local/lib/python3.6/dist-packages (from requests>=2.0->gym) (2018.4.16)\n"
          ],
          "name": "stdout"
        }
      ]
    },
    {
      "metadata": {
        "id": "hO_qj1i5Oy0K",
        "colab_type": "code",
        "colab": {
          "autoexec": {
            "startup": false,
            "wait_interval": 0
          }
        }
      },
      "cell_type": "code",
      "source": [
        "import numpy as np\n",
        "import random\n",
        "\n",
        "class ExperienceReplay():\n",
        "    def __init__(self, max_size = 50):\n",
        "        self.experiences = []\n",
        "        self.max_size = max_size\n",
        "\n",
        "    def add_experience(self, experience):\n",
        "        self.experiences.append(experience)\n",
        "        if len(self.experiences) > self.max_size:\n",
        "            self.experiences = self.experiences[len(self.experiences) - self.max_size:]\n",
        "\n",
        "    def sample(self, size):\n",
        "        return np.array(random.sample(self.experiences, size))"
      ],
      "execution_count": 0,
      "outputs": []
    },
    {
      "metadata": {
        "id": "96TUkab8Ozfn",
        "colab_type": "code",
        "colab": {
          "autoexec": {
            "startup": false,
            "wait_interval": 0
          }
        }
      },
      "cell_type": "code",
      "source": [
        "import tensorflow as tf\n",
        "import numpy as np\n",
        "\n",
        "class DQN():\n",
        "    def __init__(self, model_arch, input_shape, output_units):\n",
        "        self.input_shape = [-1]\n",
        "        self.flattened_shape = 1\n",
        "        for dim in input_shape:\n",
        "            self.flattened_shape = self.flattened_shape * dim\n",
        "            self.input_shape.append(dim)\n",
        "        print(self.flattened_shape)\n",
        "        self.output_units = output_units\n",
        "        print(self.input_shape)\n",
        "        self.create_model()\n",
        "        \n",
        "    def create_model(self):\n",
        "        \n",
        "        self.input_layer = tf.placeholder(shape = [None, self.flattened_shape], dtype = tf.float32)\n",
        "        \n",
        "        self.input = tf.reshape(self.input_layer, self.input_shape)\n",
        "\n",
        "        self.dense1 = tf.layers.dense(inputs = self.input, units = 20, activation = tf.nn.relu)\n",
        "        \n",
        "        self.dense2 = tf.layers.dense(inputs = self.dense1, units = 10, activation = tf.nn.relu)\n",
        "\n",
        "        self.Qout = tf.layers.dense(inputs = self.dense2, units = self.output_units, activation = None)\n",
        "        \n",
        "        self.prediction_value = tf.reduce_max(self.Qout, 1)\n",
        "        \n",
        "        self.prediction = tf.argmax(self.Qout, 1)\n",
        "        \n",
        "        self.targetQ = tf.placeholder(shape = [None], dtype = tf.float32)\n",
        "        \n",
        "        self.action = tf.placeholder(shape = [None], dtype = tf.int32)\n",
        "        self.action_ont_hot = tf.one_hot(self.action, self.output_units, dtype = tf.float32)\n",
        "        \n",
        "        self.Q = tf.reduce_sum(tf.multiply(self.Qout, self.action_ont_hot), axis = 1)\n",
        "        \n",
        "        self.temporal_difference = tf.square(self.targetQ - self.Q)\n",
        "        \n",
        "        self.loss = tf.reduce_mean(self.temporal_difference)\n",
        "        \n",
        "        self.optimizer = tf.train.AdamOptimizer(0.001)\n",
        "        #self.optimizer = tf.train.GradientDescentOptimizer(0.001)\n",
        "        \n",
        "        self.train_model = self.optimizer.minimize(self.loss)       "
      ],
      "execution_count": 0,
      "outputs": []
    },
    {
      "metadata": {
        "id": "wUmb2kPdPJTP",
        "colab_type": "code",
        "colab": {
          "autoexec": {
            "startup": false,
            "wait_interval": 0
          }
        }
      },
      "cell_type": "code",
      "source": [
        "import gym\n",
        "import numpy as np\n",
        "from keras.models import Sequential\n",
        "from keras.layers import Dense, Dropout\n",
        "from keras.losses import mean_squared_error\n",
        "\n",
        "import numpy as np\n",
        "import time\n",
        "import matplotlib.pyplot as plt\n",
        "\n",
        "class DQL():\n",
        "    def __init__(self, input_dim, hidden_dim, output_dim, learning_rate = 0.99, epsilon_min = 0.01, epsilon = 1.0, epsilon_decay = 0.99991, episodes = 500, rand_steps = 10000 , max_experience = 50000, update_freq = 4, max_ep_len = 200, print_every = 100):\n",
        "        self.max_ep_len = max_ep_len\n",
        "        self.print_every = print_every\n",
        "        self.epsilon = epsilon\n",
        "        self.epsilon_decay = epsilon_decay\n",
        "        self.episodes = episodes\n",
        "        self.rand_steps = rand_steps\n",
        "        self.input_dim = input_dim\n",
        "        self.hidden_dim = hidden_dim\n",
        "        self.output_dim = output_dim\n",
        "        self.max_experience = max_experience\n",
        "        self.epsilon_min = epsilon_min \n",
        "        self.learning_rate = learning_rate\n",
        "        self.update_freq = update_freq\n",
        "        self.model = self.create_model()\n",
        "        self.experience = ExperienceReplay(self.max_experience)\n",
        "    \n",
        "    def create_model(self):\n",
        "        return DQN(None, self.input_dim, self.output_dim)\n",
        "    \n",
        "    def process_state(self, state):\n",
        "        state = state.reshape(1, state.shape[0])\n",
        "        return state\n",
        "    \n",
        "    def play_game(self):\n",
        "        init = tf.global_variables_initializer()\n",
        "        env = gym.make('CartPole-v1')\n",
        "        \n",
        "        start_time = time.time()\n",
        "\n",
        "        total_steps = 0\n",
        "        all_rewards = []\n",
        "        rewards_max = []\n",
        "        rewards_avg = []\n",
        "        \n",
        "        with tf.Session() as sess:\n",
        "            sess.run(init)\n",
        "            for episode in range(self.episodes):\n",
        "\n",
        "                state = env.reset()\n",
        "                state = self.process_state(state)\n",
        "                total_reward = 0.\n",
        "                j = 0\n",
        "                steps = 0\n",
        "\n",
        "                while j < self.max_ep_len:\n",
        "                    total_steps += 1\n",
        "                    steps += 1\n",
        "                    j += 1\n",
        "                    if np.random.rand() < self.epsilon:\n",
        "                        action = np.random.randint(0, self.output_dim)\n",
        "                    else:\n",
        "                        action = sess.run(self.model.prediction, feed_dict = {self.model.input_layer : state})[0]\n",
        "                    new_state, reward, terminate, _ = env.step(action)\n",
        "                    new_state = self.process_state(new_state)\n",
        "\n",
        "                    if terminate is True:\n",
        "                        reward = -1\n",
        "                    \n",
        "                    self.experience.add_experience([state, new_state, action, reward, terminate])\n",
        "\n",
        "                    if total_steps > self.rand_steps:\n",
        "                        if total_steps % self.update_freq == 0:\n",
        "                            batch_size = 32\n",
        "                            if len(self.experience.experiences) < 32:\n",
        "                                batch_size = len(self.experience.experiences)\n",
        "                            experiences = self.experience.sample(batch_size)\n",
        "                          \n",
        "                            done = -(experiences[:, 4] - 1)\n",
        "                            target_rewards = experiences[:, 3] + self.learning_rate * \\\n",
        "                                                                  done * \\\n",
        "                                                                  sess.run(self.model.prediction_value, \\\n",
        "                                                                           feed_dict = {\n",
        "                                                                                          self.model.input_layer : np.vstack(experiences[:, 1])\n",
        "                                                                                       })\n",
        "                            \n",
        "                            #print(sess.run(self.model.Qout, feed_dict = {self.model.input_layer : np.vstack(experiences[:, 0])}))\n",
        "                            #print(sess.run(self.model.Q, feed_dict = {self.model.input_layer : np.vstack(experiences[:, 0]), \\\n",
        "                            #                                          self.model.targetQ : target_rewards.tolist(), \\\n",
        "                            #                                          self.model.action : experiences[:, 2].tolist()}))\n",
        "                            #print(target_rewards)\n",
        "                            \n",
        "                            sess.run(self.model.train_model, feed_dict = {self.model.input_layer : np.vstack(experiences[:, 0]), \\\n",
        "                                                                          self.model.targetQ : target_rewards.tolist(), \\\n",
        "                                                                          self.model.action : experiences[:, 2].tolist()})\n",
        "                            #print(target_rewards.tolist())\n",
        "                            #print(experiences[:, 2].tolist())\n",
        "                            #print(np.vstack(experiences[:, 0]).shape)\n",
        "                            #return 1,1\n",
        "                            #print(done)\n",
        "                            #print(np.vstack(experiences[:, 0]))\n",
        "                            #print(target_rewards)\n",
        "                            #print(experiences[:, 2])\n",
        "                            #return 1,1\n",
        "                            \n",
        "                            #for s, new_s, a, r, t in experiences:\n",
        "                            #    target_reward = r\n",
        "                            #    if not t:\n",
        "                            #        target_reward = r + self.learning_rate * sess.run(self.model.prediction_value, feed_dict = {self.model.input_layer : new_s})[0]\n",
        "                            #    sess.run(self.model.train_model, feed_dict = {self.model.input_layer : s, \\\n",
        "                             #                                                 self.model.targetQ : [target_reward], \\\n",
        "                             #                                                 self.model.action : [a]})\n",
        "\n",
        "                    state = new_state\n",
        "                    total_reward += reward\n",
        "\n",
        "                    if terminate is True:\n",
        "                        break\n",
        "                        \n",
        "                all_rewards.append(total_reward)\n",
        "\n",
        "                if episode != 0 and episode % self.print_every == 0:\n",
        "                    print('REWARD in ' + str(episode) + ' : ' + str(total_reward) + ' EPSILON is : ' + str(self.epsilon) + ' max is: ' + str(max(all_rewards[episode - self.print_every : episode])) + ' mean is: ' + str(np.mean(all_rewards[episode - self.print_every : episode])))\n",
        "                    rewards_max.append(max(all_rewards[episode - self.print_every : episode]))\n",
        "                    rewards_avg.append(np.mean(all_rewards[episode - self.print_every : episode]))\n",
        "\n",
        "                if total_steps > self.rand_steps:\n",
        "                    if self.epsilon > self.epsilon_min:\n",
        "                        self.epsilon *= self.epsilon_decay\n",
        "            \n",
        "        env.close()\n",
        "        print('took: ' + str((time.time() - start_time) / 60.) + ' min.')\n",
        "        return rewards_max, rewards_avg"
      ],
      "execution_count": 0,
      "outputs": []
    },
    {
      "metadata": {
        "id": "fOOKHbc2ighy",
        "colab_type": "text"
      },
      "cell_type": "markdown",
      "source": [
        "TEST 2\n",
        "---------------------\n",
        "max episode len = 250\n",
        "episodes = 2000\n",
        "rand_stps = 10000\n",
        "eps_decay = 0.9991\n",
        "model -> [4,20,10,2] <br/>\n",
        "took **28 minutes** to reach **epsilon = 0.269, max = 250, mean = 232.79**"
      ]
    },
    {
      "metadata": {
        "id": "_f_6e1fqcTo_",
        "colab_type": "text"
      },
      "cell_type": "markdown",
      "source": [
        "TEST 1\n",
        "----------------------\n",
        "max episode len = 200 <br/>\n",
        "episodes = 1000 <br/>\n",
        "rand_steps = 10000 <br/>\n",
        "esp_decay = 0.99991 <br/>\n",
        "model -> [4,20,10,2] <br/>\n",
        "learning_rate = 0.99 <br/>\n",
        "train_every 4 <br/>\n",
        "\n",
        "---------------------"
      ]
    },
    {
      "metadata": {
        "id": "wRHryW7CxeW_",
        "colab_type": "text"
      },
      "cell_type": "markdown",
      "source": [
        "TEST 3\n",
        "------------------\n",
        "max episode len = 300\n",
        "episodes = 2000\n",
        "rand_stps = 0\n",
        "eps_decay = 0.9981\n",
        "model -> [4,20,10,2] <br/>\n",
        "took **34 minutes** to reach **epsilon = 0.02, max = 300, mean = 300**"
      ]
    },
    {
      "metadata": {
        "id": "pCbmVhKTPeuu",
        "colab_type": "code",
        "colab": {
          "autoexec": {
            "startup": false,
            "wait_interval": 0
          },
          "base_uri": "https://localhost:8080/",
          "height": 51
        },
        "outputId": "e74be83a-5333-4cc5-f583-63fa99f7af0d",
        "executionInfo": {
          "status": "ok",
          "timestamp": 1530921178648,
          "user_tz": -120,
          "elapsed": 967,
          "user": {
            "displayName": "Yahya Alaa",
            "photoUrl": "https://lh3.googleusercontent.com/a/default-user=s128",
            "userId": "110797756262031615603"
          }
        }
      },
      "cell_type": "code",
      "source": [
        "import logging\n",
        "logging.getLogger(\"tensorflow\").setLevel(logging.WARNING)\n",
        "\n",
        "dql = DQL([4], None, 2, episodes = 1000, rand_steps = 2000, epsilon_decay = 0.9981, max_ep_len = 50, print_every = 50)"
      ],
      "execution_count": 11,
      "outputs": [
        {
          "output_type": "stream",
          "text": [
            "4\n",
            "[-1, 4]\n"
          ],
          "name": "stdout"
        }
      ]
    },
    {
      "metadata": {
        "id": "qWAD7HSkPvWG",
        "colab_type": "code",
        "colab": {
          "autoexec": {
            "startup": false,
            "wait_interval": 0
          },
          "base_uri": "https://localhost:8080/",
          "height": 374
        },
        "outputId": "8f1a7372-4612-4a4e-8ff9-604202d26e6c",
        "executionInfo": {
          "status": "ok",
          "timestamp": 1530921224745,
          "user_tz": -120,
          "elapsed": 44443,
          "user": {
            "displayName": "Yahya Alaa",
            "photoUrl": "https://lh3.googleusercontent.com/a/default-user=s128",
            "userId": "110797756262031615603"
          }
        }
      },
      "cell_type": "code",
      "source": [
        "r_max, r_avg = dql.play_game()"
      ],
      "execution_count": 12,
      "outputs": [
        {
          "output_type": "stream",
          "text": [
            "\u001b[33mWARN: gym.spaces.Box autodetected dtype as <class 'numpy.float32'>. Please provide explicit dtype.\u001b[0m\n",
            "REWARD in 50 : 9.0 EPSILON is : 1.0 max is: 46.0 mean is: 18.76\n",
            "REWARD in 100 : 15.0 EPSILON is : 0.9867755703906039 max is: 50.0 mean is: 19.68\n",
            "REWARD in 150 : 8.0 EPSILON is : 0.8972659114767886 max is: 50.0 mean is: 19.52\n",
            "REWARD in 200 : 39.0 EPSILON is : 0.8158756054120678 max is: 44.0 mean is: 20.44\n",
            "REWARD in 250 : 16.0 EPSILON is : 0.7418681518959364 max is: 50.0 mean is: 17.28\n",
            "REWARD in 300 : 16.0 EPSILON is : 0.6745738580080745 max is: 33.0 mean is: 14.94\n",
            "REWARD in 350 : 14.0 EPSILON is : 0.6133837781618758 max is: 50.0 mean is: 13.5\n",
            "REWARD in 400 : 50.0 EPSILON is : 0.5577442037601671 max is: 50.0 mean is: 22.22\n",
            "REWARD in 450 : 26.0 EPSILON is : 0.5071516526900504 max is: 50.0 mean is: 28.64\n",
            "REWARD in 500 : 45.0 EPSILON is : 0.46114831331684814 max is: 50.0 mean is: 27.52\n",
            "REWARD in 550 : 46.0 EPSILON is : 0.41931790174987627 max is: 50.0 mean is: 29.18\n",
            "REWARD in 600 : 31.0 EPSILON is : 0.38128189489247993 max is: 50.0 mean is: 32.3\n",
            "REWARD in 650 : 48.0 EPSILON is : 0.34669610518922495 max is: 50.0 mean is: 33.7\n",
            "REWARD in 700 : 50.0 EPSILON is : 0.3152475660751569 max is: 50.0 mean is: 45.26\n",
            "REWARD in 750 : 50.0 EPSILON is : 0.2866516999435825 max is: 50.0 mean is: 48.94\n",
            "REWARD in 800 : 50.0 EPSILON is : 0.2606497430053306 max is: 50.0 mean is: 48.54\n",
            "REWARD in 850 : 50.0 EPSILON is : 0.23700640373706564 max is: 50.0 mean is: 48.68\n",
            "REWARD in 900 : 50.0 EPSILON is : 0.21550773372996648 max is: 50.0 mean is: 50.0\n",
            "REWARD in 950 : 50.0 EPSILON is : 0.1959591916720972 max is: 50.0 mean is: 50.0\n",
            "took: 0.7285072684288025 min.\n"
          ],
          "name": "stdout"
        }
      ]
    },
    {
      "metadata": {
        "id": "S4Cgqg03i8gZ",
        "colab_type": "code",
        "colab": {
          "autoexec": {
            "startup": false,
            "wait_interval": 0
          },
          "base_uri": "https://localhost:8080/",
          "height": 376
        },
        "outputId": "8d37586d-ead0-4d6c-9f5a-0380411ef17d",
        "executionInfo": {
          "status": "ok",
          "timestamp": 1530921227673,
          "user_tz": -120,
          "elapsed": 950,
          "user": {
            "displayName": "Yahya Alaa",
            "photoUrl": "https://lh3.googleusercontent.com/a/default-user=s128",
            "userId": "110797756262031615603"
          }
        }
      },
      "cell_type": "code",
      "source": [
        "import matplotlib.pyplot as plt\n",
        "\n",
        "plt.plot(np.squeeze(r_max))\n",
        "plt.ylabel('reward')\n",
        "plt.xlabel('episodes')\n",
        "plt.title('MAX REWARD')\n",
        "plt.show()"
      ],
      "execution_count": 13,
      "outputs": [
        {
          "output_type": "display_data",
          "data": {
            "image/png": "[encoded data removed]",
            "text/plain": [
              "<matplotlib.figure.Figure at 0x7f32abc2d7b8>"
            ]
          },
          "metadata": {
            "tags": []
          }
        }
      ]
    },
    {
      "metadata": {
        "id": "MYxTwYP3xDLn",
        "colab_type": "code",
        "colab": {
          "autoexec": {
            "startup": false,
            "wait_interval": 0
          },
          "base_uri": "https://localhost:8080/",
          "height": 376
        },
        "outputId": "0b5a1310-2bb6-48aa-fbc5-64db074ac850",
        "executionInfo": {
          "status": "ok",
          "timestamp": 1530921230975,
          "user_tz": -120,
          "elapsed": 1162,
          "user": {
            "displayName": "Yahya Alaa",
            "photoUrl": "https://lh3.googleusercontent.com/a/default-user=s128",
            "userId": "110797756262031615603"
          }
        }
      },
      "cell_type": "code",
      "source": [
        "plt.plot(np.squeeze(r_avg))\n",
        "plt.ylabel('reward')\n",
        "plt.xlabel('episodes')\n",
        "plt.title('AVG REWARD')\n",
        "plt.show()"
      ],
      "execution_count": 14,
      "outputs": [
        {
          "output_type": "display_data",
          "data": {
            "image/png": "[encoded data removed]",
            "text/plain": [
              "<matplotlib.figure.Figure at 0x7f32abc2d588>"
            ]
          },
          "metadata": {
            "tags": []
          }
        }
      ]
    }
  ]
}